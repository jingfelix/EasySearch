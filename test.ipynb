{
 "cells": [
  {
   "cell_type": "code",
   "execution_count": 4,
   "metadata": {
    "ExecuteTime": {
     "end_time": "2023-10-10T15:50:12.417883Z",
     "start_time": "2023-10-10T15:50:12.374758Z"
    }
   },
   "outputs": [
    {
     "name": "stdout",
     "output_type": "stream",
     "text": [
      "{'code': 0, 'data': [{'book_id': '9ad2b781-2ae9-4840-a236-f9c09a1a3d1a', 'name': '维罗妮卡决定去死'}, {'book_id': 'd41a6ae7-a34d-4be5-8c5e-005d549323e4', 'name': '未婚妻'}, {'book_id': '07418f27-e5e5-4ad9-8e46-fffc643099d9', 'name': '1231'}, {'book_id': '17f5b67c-e80c-4640-9efe-aefe759317d1', 'name': '贪婪的多巴胺'}], 'msg': 'success'}\n"
     ]
    }
   ],
   "source": [
    "import requests\n",
    "\n",
    "url = 'http://localhost:5050/book'\n",
    "\n",
    "res = requests.get(url)\n",
    "\n",
    "\n",
    "print(res.json())"
   ]
  },
  {
   "cell_type": "code",
   "execution_count": 154,
   "metadata": {
    "ExecuteTime": {
     "end_time": "2023-10-08T15:44:37.735193Z",
     "start_time": "2023-10-08T15:44:36.036504Z"
    }
   },
   "outputs": [
    {
     "name": "stdout",
     "output_type": "stream",
     "text": [
      "{'code': 0, 'data': {'book_id': '17f5b67c-e80c-4640-9efe-aefe759317d1'}, 'msg': 'success'}\n"
     ]
    }
   ],
   "source": [
    "import os\n",
    "\n",
    "url = 'http://localhost:5050/book'\n",
    "\n",
    "\n",
    "path = os.path.join(os.getcwd(), \"novels/贪婪的多巴胺.txt\")\n",
    "\n",
    "res = requests.post(url, files={\"book\": open(path, \"rb\")})\n",
    "\n",
    "print(res.json())"
   ]
  },
  {
   "cell_type": "markdown",
   "source": [],
   "metadata": {
    "collapsed": false
   }
  },
  {
   "cell_type": "code",
   "execution_count": 5,
   "metadata": {
    "ExecuteTime": {
     "end_time": "2023-10-10T15:50:18.237901Z",
     "start_time": "2023-10-10T15:50:17.882562Z"
    }
   },
   "outputs": [
    {
     "name": "stdout",
     "output_type": "stream",
     "text": [
      "{'code': 0, 'data': [{'book_id': '9ad2b781-2ae9-4840-a236-f9c09a1a3d1a', 'name': '维罗妮卡决定去死'}, {'book_id': 'd41a6ae7-a34d-4be5-8c5e-005d549323e4', 'name': '未婚妻'}, {'book_id': '07418f27-e5e5-4ad9-8e46-fffc643099d9', 'name': '1231'}, {'book_id': '17f5b67c-e80c-4640-9efe-aefe759317d1', 'name': '贪婪的多巴胺'}], 'msg': 'success'}\n",
      "9ad2b781-2ae9-4840-a236-f9c09a1a3d1a\n",
      "Time: 0.3482837677001953\n",
      "{'code': 0, 'data': {'results': [{'content': '前言抬起头，向上看低头向下看，你看到了什么？', 'id': '2'}]}, 'msg': 'success'}\n"
     ]
    }
   ],
   "source": [
    "url = 'http://localhost:5050/book'\n",
    "\n",
    "res = requests.get(url)\n",
    "\n",
    "print(res.json())\n",
    "\n",
    "book_id = res.json()[\"data\"][0][\"book_id\"]\n",
    "print(book_id)\n",
    "book_id=\"17f5b67c-e80c-4640-9efe-aefe759317d1\"\n",
    "import time\n",
    "\n",
    "start_time = time.time()\n",
    "\n",
    "url = f'http://localhost:5050/book/{book_id}?prompt=低头向下'\n",
    "\n",
    "res = requests.get(url)\n",
    "\n",
    "end_time = time.time()\n",
    "\n",
    "print(f\"Time: {end_time - start_time}\")\n",
    "\n",
    "print(res.json())"
   ]
  },
  {
   "cell_type": "code",
   "execution_count": 149,
   "metadata": {
    "ExecuteTime": {
     "end_time": "2023-10-05T12:03:04.799109Z",
     "start_time": "2023-10-05T12:03:04.756986Z"
    }
   },
   "outputs": [
    {
     "name": "stdout",
     "output_type": "stream",
     "text": [
      "{'code': 0, 'data': {'results': [{'content': '这个游戏是一位巴西作家保罗·柯艾略发明的，在联合酒店咖啡厅召开的一次报告会上，她恰好认识了他。', 'id': '7'}]}, 'msg': 'success'}\n"
     ]
    }
   ],
   "source": [
    "import requests\n",
    "\n",
    "url = 'http://localhost:5050/book/'\n",
    "res = requests.get(url)\n",
    "\n",
    "book_id = res.json()[\"data\"][0][\"book_id\"]\n",
    "\n",
    "line_id = 7\n",
    "url = f'http://localhost:5050/book/{book_id}/{line_id}'\n",
    "\n",
    "res = requests.get(url)\n",
    "\n",
    "print(res.json())"
   ]
  },
  {
   "cell_type": "code",
   "execution_count": 24,
   "outputs": [
    {
     "name": "stdout",
     "output_type": "stream",
     "text": [
      "{'code': 0,\n",
      " 'data': {'results': [{'content': '前言抬起头，向上看低头向下看，你看到了什么？', 'id': '2'},\n",
      "                      {'content': '无论它是你工作挣来的、他人赠予的，还是因为运气好得到的，你低头时看到的大部分东西都是你的，是你拥有的。现在抬头向上看，你看到了什么？',\n",
      "                       'id': '5'}],\n",
      "          'type': 'fuzzy'},\n",
      " 'msg': 'success'}\n",
      "{'code': 0,\n",
      " 'data': {'results': [{'content': '它是创造力的源泉，甚至是疯狂的源泉；它是上瘾的关键因素，也是康复的途径；它让雄心勃勃的管理者不惜一切代价去追求成功，让成功的演员、企业家和艺术家在拥有了梦想中的金钱和名望之后，还会继续工作很长一段时间；它使得生活美满的丈夫或妻子不顾一切地寻找婚外的刺激。',\n",
      "                       'id': 17}],\n",
      "          'type': 'next-line'},\n",
      " 'msg': 'success'}\n"
     ]
    }
   ],
   "source": [
    "import requests\n",
    "import pprint\n",
    "\n",
    "book_id = \"17f5b67c-e80c-4640-9efe-aefe759317d1\"\n",
    "url = f'http://localhost:5050/book/v1/{book_id}?prompt=低头'\n",
    "\n",
    "res = requests.get(url)\n",
    "\n",
    "pprint.pprint(res.json())\n",
    "book_id = \"17f5b67c-e80c-4640-9efe-aefe759317d1\"\n",
    "url = f'http://localhost:5050/book/v1/{book_id}?prompt=服从它，它就会奖励你；你不服从它，它就会让你痛苦。'\n",
    "\n",
    "res = requests.get(url)\n",
    "\n",
    "pprint.pprint(res.json())"
   ],
   "metadata": {
    "collapsed": false,
    "ExecuteTime": {
     "end_time": "2023-10-10T16:32:00.072406Z",
     "start_time": "2023-10-10T16:32:00.058927Z"
    }
   }
  },
  {
   "cell_type": "markdown",
   "source": [],
   "metadata": {
    "collapsed": false
   }
  },
  {
   "cell_type": "code",
   "execution_count": null,
   "outputs": [],
   "source": [],
   "metadata": {
    "collapsed": false
   }
  }
 ],
 "metadata": {
  "kernelspec": {
   "display_name": ".venv",
   "language": "python",
   "name": "python3"
  },
  "language_info": {
   "codemirror_mode": {
    "name": "ipython",
    "version": 3
   },
   "file_extension": ".py",
   "mimetype": "text/x-python",
   "name": "python",
   "nbconvert_exporter": "python",
   "pygments_lexer": "ipython3",
   "version": "3.10.12"
  },
  "orig_nbformat": 4
 },
 "nbformat": 4,
 "nbformat_minor": 2
}
