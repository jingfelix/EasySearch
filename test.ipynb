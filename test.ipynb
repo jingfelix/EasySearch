{
 "cells": [
  {
   "cell_type": "code",
   "execution_count": 20,
   "metadata": {
    "ExecuteTime": {
     "end_time": "2023-09-29T04:26:45.129075Z",
     "start_time": "2023-09-29T04:26:45.118124Z"
    }
   },
   "outputs": [
    {
     "name": "stdout",
     "output_type": "stream",
     "text": [
      "{'code': 0, 'data': [], 'msg': 'success'}\n"
     ]
    }
   ],
   "source": [
    "import requests\n",
    "\n",
    "url = 'http://localhost:5050/book'\n",
    "\n",
    "res = requests.get(url)\n",
    "\n",
    "\n",
    "print(res.json())"
   ]
  },
  {
   "cell_type": "code",
   "execution_count": 14,
   "metadata": {
    "ExecuteTime": {
     "end_time": "2023-09-29T04:28:02.850019Z",
     "start_time": "2023-09-29T04:28:02.455367Z"
    }
   },
   "outputs": [
    {
     "name": "stdout",
     "output_type": "stream",
     "text": [
      "{'code': 0, 'data': {'book_id': '4470b5b4-6a4a-49b7-a9db-683846e1d636'}, 'msg': 'success'}\n"
     ]
    }
   ],
   "source": [
    "import os\n",
    "\n",
    "url = 'http://localhost:5050/book'\n",
    "\n",
    "\n",
    "path = os.path.join(os.getcwd(), \"novels/test.txt\")\n",
    "\n",
    "res = requests.post(url, files={\"book\": open(path, \"rb\")})\n",
    "\n",
    "print(res.json())"
   ]
  },
  {
   "cell_type": "code",
   "execution_count": 41,
   "metadata": {
    "ExecuteTime": {
     "end_time": "2023-09-29T04:28:07.548546Z",
     "start_time": "2023-09-29T04:28:07.537054Z"
    }
   },
   "outputs": [
    {
     "name": "stdout",
     "output_type": "stream",
     "text": [
      "{'code': 0, 'data': [{'book_id': '499c7c84-fad3-458d-8352-88d00cb9c113', 'name': 'test'}], 'msg': 'success'}\n",
      "499c7c84-fad3-458d-8352-88d00cb9c113\n",
      "Time: 0.0036191940307617188\n",
      "{'code': 0, 'data': {'results': ['3. 人生的路上有时会遇到曲折和波折，但正是这些经历让我们成长和坚强。']}, 'msg': 'success'}\n"
     ]
    }
   ],
   "source": [
    "url = 'http://localhost:5050/book'\n",
    "\n",
    "res = requests.get(url)\n",
    "\n",
    "print(res.json())\n",
    "\n",
    "book_id = res.json()[\"data\"][0][\"book_id\"]\n",
    "print(book_id)\n",
    "\n",
    "import time\n",
    "\n",
    "start_time = time.time()\n",
    "\n",
    "url = f'http://localhost:5050/book/{book_id}?prompt=人生的路上'\n",
    "\n",
    "res = requests.get(url)\n",
    "\n",
    "end_time = time.time()\n",
    "\n",
    "print(f\"Time: {end_time - start_time}\")\n",
    "\n",
    "print(res.json())"
   ]
  },
  {
   "cell_type": "code",
   "execution_count": 17,
   "metadata": {},
   "outputs": [
    {
     "name": "stdout",
     "output_type": "stream",
     "text": [
      "{'code': 0, 'data': {'result': '1. 梦想是生活的指南针，追逐它们，你将走向无限的可能。'}, 'msg': 'success'}\n"
     ]
    }
   ],
   "source": [
    "import requests\n",
    "\n",
    "url = 'http://localhost:5050/book/'\n",
    "res = requests.get(url)\n",
    "\n",
    "book_id = res.json()[\"data\"][0][\"book_id\"]\n",
    "\n",
    "line_id = 5\n",
    "url = f'http://localhost:5050/book/{book_id}/{line_id}'\n",
    "\n",
    "res = requests.get(url)\n",
    "\n",
    "print(res.json())"
   ]
  }
 ],
 "metadata": {
  "kernelspec": {
   "display_name": ".venv",
   "language": "python",
   "name": "python3"
  },
  "language_info": {
   "codemirror_mode": {
    "name": "ipython",
    "version": 3
   },
   "file_extension": ".py",
   "mimetype": "text/x-python",
   "name": "python",
   "nbconvert_exporter": "python",
   "pygments_lexer": "ipython3",
   "version": "3.10.12"
  },
  "orig_nbformat": 4
 },
 "nbformat": 4,
 "nbformat_minor": 2
}
