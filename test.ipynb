{
 "cells": [
  {
   "cell_type": "code",
   "execution_count": 3,
   "metadata": {
    "ExecuteTime": {
     "end_time": "2023-10-01T12:27:20.928189Z",
     "start_time": "2023-10-01T12:27:20.919825Z"
    }
   },
   "outputs": [
    {
     "name": "stdout",
     "output_type": "stream",
     "text": [
      "{'code': 0, 'data': [], 'msg': 'success'}\n"
     ]
    }
   ],
   "source": [
    "import requests\n",
    "\n",
    "url = 'http://localhost:5050/book'\n",
    "\n",
    "res = requests.get(url)\n",
    "\n",
    "\n",
    "print(res.json())"
   ]
  },
  {
   "cell_type": "code",
   "execution_count": 4,
   "metadata": {
    "ExecuteTime": {
     "end_time": "2023-10-01T12:27:31.898769Z",
     "start_time": "2023-10-01T12:27:30.728158Z"
    }
   },
   "outputs": [
    {
     "name": "stdout",
     "output_type": "stream",
     "text": [
      "{'code': 0, 'data': {'book_id': '85bb1d5f-5e3c-42a1-9929-2153a0baf1ce'}, 'msg': 'success'}\n"
     ]
    }
   ],
   "source": [
    "import os\n",
    "\n",
    "url = 'http://localhost:5050/book'\n",
    "\n",
    "\n",
    "path = os.path.join(os.getcwd(), \"novels/维罗妮卡决定去死.txt\")\n",
    "\n",
    "res = requests.post(url, files={\"book\": open(path, \"rb\")})\n",
    "\n",
    "print(res.json())"
   ]
  },
  {
   "cell_type": "markdown",
   "source": [],
   "metadata": {
    "collapsed": false
   }
  },
  {
   "cell_type": "code",
   "execution_count": 78,
   "metadata": {
    "ExecuteTime": {
     "end_time": "2023-09-29T13:41:32.198754Z",
     "start_time": "2023-09-29T13:41:32.169921Z"
    }
   },
   "outputs": [
    {
     "name": "stdout",
     "output_type": "stream",
     "text": [
      "{'code': 0, 'data': [{'book_id': '41f267a1-02ba-4f4f-a368-815276256a7d', 'name': 'test'}], 'msg': 'success'}\n",
      "41f267a1-02ba-4f4f-a368-815276256a7d\n",
      "Time: 0.013379096984863281\n",
      "{'code': 0, 'data': {'results': [{'content': '3. 人生的路上有时会遇到曲折和波折，但正是这些经历让我们成长和坚强。', 'id': '2'}]}, 'msg': 'success'}\n"
     ]
    }
   ],
   "source": [
    "url = 'http://localhost:5050/book'\n",
    "\n",
    "res = requests.get(url)\n",
    "\n",
    "print(res.json())\n",
    "\n",
    "book_id = res.json()[\"data\"][0][\"book_id\"]\n",
    "print(book_id)\n",
    "\n",
    "import time\n",
    "\n",
    "start_time = time.time()\n",
    "\n",
    "url = f'http://localhost:5050/book/{book_id}?prompt=路上'\n",
    "\n",
    "res = requests.get(url)\n",
    "\n",
    "end_time = time.time()\n",
    "\n",
    "print(f\"Time: {end_time - start_time}\")\n",
    "\n",
    "print(res.json())"
   ]
  },
  {
   "cell_type": "code",
   "execution_count": 79,
   "metadata": {
    "ExecuteTime": {
     "end_time": "2023-09-29T13:42:51.371239Z",
     "start_time": "2023-09-29T13:42:51.360070Z"
    }
   },
   "outputs": [
    {
     "name": "stdout",
     "output_type": "stream",
     "text": [
      "{'code': 0, 'data': {'line': '3. 当你感到失落和迷茫时，记得停下来，深呼吸，相信自己内心的力量。'}, 'msg': 'success'}\n"
     ]
    }
   ],
   "source": [
    "import requests\n",
    "\n",
    "url = 'http://localhost:5050/book/'\n",
    "res = requests.get(url)\n",
    "\n",
    "book_id = res.json()[\"data\"][0][\"book_id\"]\n",
    "\n",
    "line_id = 7\n",
    "url = f'http://localhost:5050/book/{book_id}/{line_id}'\n",
    "\n",
    "res = requests.get(url)\n",
    "\n",
    "print(res.json())"
   ]
  }
 ],
 "metadata": {
  "kernelspec": {
   "display_name": ".venv",
   "language": "python",
   "name": "python3"
  },
  "language_info": {
   "codemirror_mode": {
    "name": "ipython",
    "version": 3
   },
   "file_extension": ".py",
   "mimetype": "text/x-python",
   "name": "python",
   "nbconvert_exporter": "python",
   "pygments_lexer": "ipython3",
   "version": "3.10.12"
  },
  "orig_nbformat": 4
 },
 "nbformat": 4,
 "nbformat_minor": 2
}
