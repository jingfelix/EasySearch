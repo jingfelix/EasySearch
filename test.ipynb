{
 "cells": [
  {
   "cell_type": "code",
   "execution_count": 76,
   "metadata": {
    "ExecuteTime": {
     "end_time": "2023-09-29T13:41:29.351741Z",
     "start_time": "2023-09-29T13:41:29.333987Z"
    }
   },
   "outputs": [
    {
     "name": "stdout",
     "output_type": "stream",
     "text": [
      "{'code': 0, 'data': [], 'msg': 'success'}\n"
     ]
    }
   ],
   "source": [
    "import requests\n",
    "\n",
    "url = 'http://localhost:5050/book'\n",
    "\n",
    "res = requests.get(url)\n",
    "\n",
    "\n",
    "print(res.json())"
   ]
  },
  {
   "cell_type": "code",
   "execution_count": 77,
   "metadata": {
    "ExecuteTime": {
     "end_time": "2023-09-29T13:41:30.694602Z",
     "start_time": "2023-09-29T13:41:30.309126Z"
    }
   },
   "outputs": [
    {
     "name": "stdout",
     "output_type": "stream",
     "text": [
      "{'code': 0, 'data': {'book_id': '41f267a1-02ba-4f4f-a368-815276256a7d'}, 'msg': 'success'}\n"
     ]
    }
   ],
   "source": [
    "import os\n",
    "\n",
    "url = 'http://localhost:5050/book'\n",
    "\n",
    "\n",
    "path = os.path.join(os.getcwd(), \"novels/test.txt\")\n",
    "\n",
    "res = requests.post(url, files={\"book\": open(path, \"rb\")})\n",
    "\n",
    "print(res.json())"
   ]
  },
  {
   "cell_type": "code",
   "execution_count": 78,
   "metadata": {
    "ExecuteTime": {
     "end_time": "2023-09-29T13:41:32.198754Z",
     "start_time": "2023-09-29T13:41:32.169921Z"
    }
   },
   "outputs": [
    {
     "name": "stdout",
     "output_type": "stream",
     "text": [
      "{'code': 0, 'data': [{'book_id': '41f267a1-02ba-4f4f-a368-815276256a7d', 'name': 'test'}], 'msg': 'success'}\n",
      "41f267a1-02ba-4f4f-a368-815276256a7d\n",
      "Time: 0.013379096984863281\n",
      "{'code': 0, 'data': {'results': [{'content': '3. 人生的路上有时会遇到曲折和波折，但正是这些经历让我们成长和坚强。', 'id': '2'}]}, 'msg': 'success'}\n"
     ]
    }
   ],
   "source": [
    "url = 'http://localhost:5050/book'\n",
    "\n",
    "res = requests.get(url)\n",
    "\n",
    "print(res.json())\n",
    "\n",
    "book_id = res.json()[\"data\"][0][\"book_id\"]\n",
    "print(book_id)\n",
    "\n",
    "import time\n",
    "\n",
    "start_time = time.time()\n",
    "\n",
    "url = f'http://localhost:5050/book/{book_id}?prompt=路上'\n",
    "\n",
    "res = requests.get(url)\n",
    "\n",
    "end_time = time.time()\n",
    "\n",
    "print(f\"Time: {end_time - start_time}\")\n",
    "\n",
    "print(res.json())"
   ]
  },
  {
   "cell_type": "code",
   "execution_count": 73,
   "metadata": {
    "ExecuteTime": {
     "end_time": "2023-09-29T13:40:28.225234Z",
     "start_time": "2023-09-29T13:40:28.210249Z"
    }
   },
   "outputs": [
    {
     "ename": "IndexError",
     "evalue": "list index out of range",
     "output_type": "error",
     "traceback": [
      "\u001B[0;31m---------------------------------------------------------------------------\u001B[0m",
      "\u001B[0;31mIndexError\u001B[0m                                Traceback (most recent call last)",
      "Cell \u001B[0;32mIn[73], line 6\u001B[0m\n\u001B[1;32m      3\u001B[0m url \u001B[38;5;241m=\u001B[39m \u001B[38;5;124m'\u001B[39m\u001B[38;5;124mhttp://localhost:5050/book/\u001B[39m\u001B[38;5;124m'\u001B[39m\n\u001B[1;32m      4\u001B[0m res \u001B[38;5;241m=\u001B[39m requests\u001B[38;5;241m.\u001B[39mget(url)\n\u001B[0;32m----> 6\u001B[0m book_id \u001B[38;5;241m=\u001B[39m \u001B[43mres\u001B[49m\u001B[38;5;241;43m.\u001B[39;49m\u001B[43mjson\u001B[49m\u001B[43m(\u001B[49m\u001B[43m)\u001B[49m\u001B[43m[\u001B[49m\u001B[38;5;124;43m\"\u001B[39;49m\u001B[38;5;124;43mdata\u001B[39;49m\u001B[38;5;124;43m\"\u001B[39;49m\u001B[43m]\u001B[49m\u001B[43m[\u001B[49m\u001B[38;5;241;43m0\u001B[39;49m\u001B[43m]\u001B[49m[\u001B[38;5;124m\"\u001B[39m\u001B[38;5;124mbook_id\u001B[39m\u001B[38;5;124m\"\u001B[39m]\n\u001B[1;32m      8\u001B[0m line_id \u001B[38;5;241m=\u001B[39m \u001B[38;5;241m7\u001B[39m\n\u001B[1;32m      9\u001B[0m url \u001B[38;5;241m=\u001B[39m \u001B[38;5;124mf\u001B[39m\u001B[38;5;124m'\u001B[39m\u001B[38;5;124mhttp://localhost:5050/book/\u001B[39m\u001B[38;5;132;01m{\u001B[39;00mbook_id\u001B[38;5;132;01m}\u001B[39;00m\u001B[38;5;124m/\u001B[39m\u001B[38;5;132;01m{\u001B[39;00mline_id\u001B[38;5;132;01m}\u001B[39;00m\u001B[38;5;124m'\u001B[39m\n",
      "\u001B[0;31mIndexError\u001B[0m: list index out of range"
     ]
    }
   ],
   "source": [
    "import requests\n",
    "\n",
    "url = 'http://localhost:5050/book/'\n",
    "res = requests.get(url)\n",
    "\n",
    "book_id = res.json()[\"data\"][0][\"book_id\"]\n",
    "\n",
    "line_id = 7\n",
    "url = f'http://localhost:5050/book/{book_id}/{line_id}'\n",
    "\n",
    "res = requests.get(url)\n",
    "\n",
    "print(res.json())"
   ]
  }
 ],
 "metadata": {
  "kernelspec": {
   "display_name": ".venv",
   "language": "python",
   "name": "python3"
  },
  "language_info": {
   "codemirror_mode": {
    "name": "ipython",
    "version": 3
   },
   "file_extension": ".py",
   "mimetype": "text/x-python",
   "name": "python",
   "nbconvert_exporter": "python",
   "pygments_lexer": "ipython3",
   "version": "3.10.12"
  },
  "orig_nbformat": 4
 },
 "nbformat": 4,
 "nbformat_minor": 2
}
