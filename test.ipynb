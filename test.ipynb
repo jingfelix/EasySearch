{
 "cells": [
  {
   "cell_type": "code",
   "execution_count": 41,
   "metadata": {
    "ExecuteTime": {
     "end_time": "2023-10-02T13:37:59.362797Z",
     "start_time": "2023-10-02T13:37:59.350224Z"
    }
   },
   "outputs": [
    {
     "name": "stdout",
     "output_type": "stream",
     "text": [
      "{'code': 0, 'data': [{'book_id': '9ad2b781-2ae9-4840-a236-f9c09a1a3d1a', 'name': '维罗妮卡决定去死'}], 'msg': 'success'}\n"
     ]
    }
   ],
   "source": [
    "import requests\n",
    "\n",
    "url = 'http://localhost:5050/book'\n",
    "\n",
    "res = requests.get(url)\n",
    "\n",
    "\n",
    "print(res.json())"
   ]
  },
  {
   "cell_type": "code",
   "execution_count": 42,
   "metadata": {
    "ExecuteTime": {
     "end_time": "2023-10-02T13:38:02.145093Z",
     "start_time": "2023-10-02T13:38:02.127714Z"
    }
   },
   "outputs": [
    {
     "name": "stdout",
     "output_type": "stream",
     "text": [
      "{'code': 1, 'data': {}, 'msg': 'Duplicate book'}\n"
     ]
    }
   ],
   "source": [
    "import os\n",
    "\n",
    "url = 'http://localhost:5050/book'\n",
    "\n",
    "\n",
    "path = os.path.join(os.getcwd(), \"novels/维罗妮卡决定去死.txt\")\n",
    "\n",
    "res = requests.post(url, files={\"book\": open(path, \"rb\")})\n",
    "\n",
    "print(res.json())"
   ]
  },
  {
   "cell_type": "markdown",
   "source": [],
   "metadata": {
    "collapsed": false
   }
  },
  {
   "cell_type": "code",
   "execution_count": 43,
   "metadata": {
    "ExecuteTime": {
     "end_time": "2023-10-02T13:38:04.185450Z",
     "start_time": "2023-10-02T13:38:03.814175Z"
    }
   },
   "outputs": [
    {
     "name": "stdout",
     "output_type": "stream",
     "text": [
      "{'code': 0, 'data': [{'book_id': '9ad2b781-2ae9-4840-a236-f9c09a1a3d1a', 'name': '维罗妮卡决定去死'}], 'msg': 'success'}\n",
      "9ad2b781-2ae9-4840-a236-f9c09a1a3d1a\n",
      "Time: 0.3580191135406494\n",
      "{'code': 0, 'data': {'results': [{'content': '我会再次看到卢布尔雅那的大街小巷、它的圆形广场、桥梁与行走在路上上班下班的人。.', 'id': '181'}, {'content': '在回床的路上，她听到一张床上有人低语：“你不知道什么是疯子？”最初那一瞬间，她并不想回应。', 'id': '276'}, {'content': '他本想放弃理想，听取父亲的劝告，但是在这条理想之路上，他已经行得太远，早已越过了人与梦想之间的深壑。现在，他已不能回头了。', 'id': '1709'}, {'content': '‘你们这些留下的是要听我话的人，’他说，‘你们通过了灵修之路上最艰难的两次考验，一是要耐心地等待正确时刻的来临，二是勇敢地不对遭遇的事情失望。我要教的人正是你们。’', 'id': '864'}, {'content': '护士说，“你们为什么要待在阴冷的病房里呢？为什么不到外面走走？”“昨天晚上发生的事，让你觉得羞耻吗？”走向花园的路上，爱德华问道。“我羞愧过，但现在很自豪。', 'id': '1533'}, {'content': '走回病房的路上，她看到墙上挂着一张镶着镜框的照片，拍的是卢布尔雅那的中心广场，那时普列舍仁的雕像还没安放在那里，可能是个星期天，人们在广场上散步。她看了下照片的日期，是一九一〇年的夏天。', 'id': '815'}, {'content': '他们自有计划，儿子将来会遇到一位法国或德国的名门闺秀，在大使为他铺就的辉煌外交路上，有她陪伴会让他极尽体面。然而，爱德华却爱得一日深似一日。母亲对此焦虑不堪，只能询问丈夫的意见。“外交的艺术在于让对手等待。”', 'id': '1556'}, {'content': '我不知道该做些什么，我只知道，我用了三年的时光才懂得这个道理：生活将我推到了另外一条路上，而我却不想踏足。”“我觉得我看到了好转的迹象。”伊戈尔医生说。“我不需要求你让我离开维雷特。我可以大摇大摆地走出大门，再也不回头。', 'id': '1521'}]}, 'msg': 'success'}\n"
     ]
    }
   ],
   "source": [
    "url = 'http://localhost:5050/book'\n",
    "\n",
    "res = requests.get(url)\n",
    "\n",
    "print(res.json())\n",
    "\n",
    "book_id = res.json()[\"data\"][0][\"book_id\"]\n",
    "print(book_id)\n",
    "\n",
    "import time\n",
    "\n",
    "start_time = time.time()\n",
    "\n",
    "url = f'http://localhost:5050/book/{book_id}?prompt=路上'\n",
    "\n",
    "res = requests.get(url)\n",
    "\n",
    "end_time = time.time()\n",
    "\n",
    "print(f\"Time: {end_time - start_time}\")\n",
    "\n",
    "print(res.json())"
   ]
  },
  {
   "cell_type": "code",
   "execution_count": 45,
   "metadata": {
    "ExecuteTime": {
     "end_time": "2023-10-02T13:48:50.856081Z",
     "start_time": "2023-10-02T13:48:50.841243Z"
    }
   },
   "outputs": [
    {
     "name": "stdout",
     "output_type": "stream",
     "text": [
      "{'code': 0, 'data': {'line': '这个游戏是一位巴西作家保罗·柯艾略发明的，在联合酒店咖啡厅召开的一次报告会上，她恰好认识了他。'}, 'msg': 'success'}\n"
     ]
    }
   ],
   "source": [
    "import requests\n",
    "\n",
    "url = 'http://localhost:5050/book/'\n",
    "res = requests.get(url)\n",
    "\n",
    "book_id = res.json()[\"data\"][0][\"book_id\"]\n",
    "\n",
    "line_id = 7\n",
    "url = f'http://localhost:5050/book/{book_id}/{line_id}'\n",
    "\n",
    "res = requests.get(url)\n",
    "\n",
    "print(res.json())"
   ]
  },
  {
   "cell_type": "code",
   "execution_count": null,
   "outputs": [],
   "source": [],
   "metadata": {
    "collapsed": false
   }
  }
 ],
 "metadata": {
  "kernelspec": {
   "display_name": ".venv",
   "language": "python",
   "name": "python3"
  },
  "language_info": {
   "codemirror_mode": {
    "name": "ipython",
    "version": 3
   },
   "file_extension": ".py",
   "mimetype": "text/x-python",
   "name": "python",
   "nbconvert_exporter": "python",
   "pygments_lexer": "ipython3",
   "version": "3.10.12"
  },
  "orig_nbformat": 4
 },
 "nbformat": 4,
 "nbformat_minor": 2
}
